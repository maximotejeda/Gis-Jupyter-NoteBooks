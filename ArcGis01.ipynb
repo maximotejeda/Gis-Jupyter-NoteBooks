{
 "cells": [
  {
   "cell_type": "markdown",
   "metadata": {},
   "source": [
    "# Jupyter NoteBook GIS \n",
    "**Author: Maximo Tejeda** <br/>\n",
    "**Email: maximotejeda@gmail.com**<br/>\n",
    "**Fecha 17/12/2020**<br/>\n",
    "**Objetivo:**\n",
    "   Primeras impresiones y toma de contacto con la api de la plataforma para python de la herramienta __ArcgGis__ ."
   ]
  },
  {
   "cell_type": "markdown",
   "metadata": {},
   "source": [
    "Como cualquier otra libreria python la api de **esri** *arcgi* tiene modulos, clases, funciones y tipos de datosque pueden ser usados para trabajar con los elementos de la plataforma **ArcGis**, La Api esta organizada en 13 moduulos diferentes, los principales son:<br/>\n",
    "1. Modulo **GIS**: Es el modulo mas importantey es la entrada al GIS que se encuentra dentro de la plataforma **ArcGis Online** y **ArcGis Portal**, este modulo nos permite administrar usuarios, grupos y contenido GIS.\n",
    "2. Modulo **Feature**: Representa la parte vectorial de los datos en la API.\n",
    "3. Modulo **Raster**: Este modulo contiene clases y funciones de analisis de datos raster e imagenes.\n",
    "4. Modulo **Geoprocessing Module**: Es Requerido para importar cajas de herramientas con capacidades de geoprocesoque no son partes de la api pero estan disponibles atravez de **ArcGis Online**.\n",
    "5. Modulo **Widgets**: Provee los componentes necesarios para visualizar datos GIS analisis y  incluye el *MapView* en los *Jupyter Notebook*."
   ]
  },
  {
   "cell_type": "markdown",
   "metadata": {},
   "source": [
    "*Primero importamos la herramienta gis `from arcgis.gis import GIS`*"
   ]
  },
  {
   "cell_type": "code",
   "execution_count": null,
   "metadata": {},
   "outputs": [],
   "source": [
    "from arcgis.gis import GIS"
   ]
  },
  {
   "cell_type": "markdown",
   "metadata": {},
   "source": [
    "El objeto `GIS` hace referencia a una coneccion a la plataforma *ArcGis* tanto a *Online* como a *Enterprise*, permitiendonos este tener acceso a los recursos disponibles. Nos permite realizar las siguientes operaciones.\n",
    "* Buscar\n",
    "* Obterner\n",
    "* Crear\n",
    "\n",
    "Si deseamos establecer una conexion a una de estas opciones de forma autorizada, hemos de suministrar la url que da acceso a la plataforma y el webadaptor de la forma (https://gis.example.com/portal) para enterprise.\n",
    "\n",
    "Al momento de establecer una coneccion autorizada es necesario suministrar las credenciales del usuario que hara referencia ala informacion: `gis = GIS(username='usuario', password='stronpasswd')`\n",
    "\n",
    "**Primero creemos la conexion de forma anonima**"
   ]
  },
  {
   "cell_type": "code",
   "execution_count": null,
   "metadata": {},
   "outputs": [],
   "source": [
    "gis = GIS()"
   ]
  },
  {
   "cell_type": "markdown",
   "metadata": {},
   "source": [
    "El objeto `GIS` posee un atributo llamado map el cual nos permite obtener los recursos de mapas con los datos que le suministremos.\n",
    "**Aqui obtendremos un mapa de Santo Domingo**"
   ]
  },
  {
   "cell_type": "code",
   "execution_count": null,
   "metadata": {},
   "outputs": [],
   "source": [
    "distrito_map = gis.map('Distrito Nacional')"
   ]
  },
  {
   "cell_type": "markdown",
   "metadata": {},
   "source": [
    "Ahora Visializaremos el mapa de **Santo Domingo**"
   ]
  },
  {
   "cell_type": "markdown",
   "metadata": {},
   "source": [
    "Visualizamos los mapas base disponibles."
   ]
  },
  {
   "cell_type": "code",
   "execution_count": null,
   "metadata": {},
   "outputs": [],
   "source": [
    "distrito_map.basemaps"
   ]
  },
  {
   "cell_type": "code",
   "execution_count": null,
   "metadata": {},
   "outputs": [],
   "source": [
    "distrito_map"
   ]
  },
  {
   "cell_type": "markdown",
   "metadata": {},
   "source": [
    "Ajustamos el zoom del mapa."
   ]
  },
  {
   "cell_type": "code",
   "execution_count": null,
   "metadata": {},
   "outputs": [],
   "source": [
    "distrito_map.zoom = 13"
   ]
  },
  {
   "cell_type": "markdown",
   "metadata": {},
   "source": [
    "Seleccionamos el mapa base **satelite**"
   ]
  },
  {
   "cell_type": "code",
   "execution_count": null,
   "metadata": {},
   "outputs": [],
   "source": [
    "distrito_map.basemap = 'satellite'"
   ]
  },
  {
   "cell_type": "code",
   "execution_count": null,
   "metadata": {},
   "outputs": [],
   "source": [
    "distrito_map"
   ]
  },
  {
   "cell_type": "markdown",
   "metadata": {},
   "source": [
    "Podemos Consultar el CRS de los mapas mostrados anteriormente.<br/>\n",
    "* CRS: Coordinate Reference System"
   ]
  },
  {
   "cell_type": "code",
   "execution_count": null,
   "metadata": {},
   "outputs": [],
   "source": [
    "distrito_map.extent"
   ]
  },
  {
   "cell_type": "markdown",
   "metadata": {},
   "source": [
    "Este output se encuentra en **JavaScript Object Notation *JSON***, la especificacion de WebMap se encuentran en Json Esto permite que diferentes aplicaciones APIs y SDKs crear, editar, y mostrar mapas. <br/>\n",
    "* **spatialReference**: Es la llave que almacena los datos del WebMap es la parte mas externa del **Json**.\n",
    "* **latestWkid**: Refiere la proyeccion usada para el WebMap en conjunto con wkid.\n",
    "* **wkid**: Refiere a la proyeccion usada en el WebMap en conjunto con latestWkid. Segun la referencia en http://developers.arcgis.com.\n",
    "* **x,y**: min y max hacen referencia al mayor x,y y el menor x,y"
   ]
  },
  {
   "cell_type": "code",
   "execution_count": null,
   "metadata": {},
   "outputs": [],
   "source": []
  }
 ],
 "metadata": {
  "kernelspec": {
   "display_name": "Python 3",
   "language": "python",
   "name": "python3"
  },
  "language_info": {
   "codemirror_mode": {
    "name": "ipython",
    "version": 3
   },
   "file_extension": ".py",
   "mimetype": "text/x-python",
   "name": "python",
   "nbconvert_exporter": "python",
   "pygments_lexer": "ipython3",
   "version": "3.8.5"
  }
 },
 "nbformat": 4,
 "nbformat_minor": 4
}
