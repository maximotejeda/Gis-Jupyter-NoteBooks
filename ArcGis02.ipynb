{
 "cells": [
  {
   "cell_type": "markdown",
   "metadata": {},
   "source": [
    "# Jupyter NoteBook ArcGis 02\n",
    "**Author: Maximo Tejeda** <br/>\n",
    "**Email: maximotejeda@gmail.com**<br/>\n",
    "**Fecha 17/12/2020**<br/>\n",
    "**Objetivo:** <br/> Creacion, busqueda, muestras de contenido geoespacial. Vamos a crear un mapa y agregarle contenido para finalizar guardandolo en nuestro espacio personal el cual puede estar tanto en **ArcGis Online** o en **ArcGis Enterprise**."
   ]
  },
  {
   "cell_type": "markdown",
   "metadata": {},
   "source": [
    "Primero Logearemos a nuestra cuenta."
   ]
  },
  {
   "cell_type": "code",
   "execution_count": null,
   "metadata": {},
   "outputs": [],
   "source": [
    "from os import environ\n",
    "import arcgis\n",
    "from arcgis.gis import GIS"
   ]
  },
  {
   "cell_type": "code",
   "execution_count": null,
   "metadata": {},
   "outputs": [],
   "source": [
    "username = environ.get('USERNAME')\n",
    "passwd = environ.get('PASSWORD')"
   ]
  },
  {
   "cell_type": "markdown",
   "metadata": {},
   "source": [
    "Hacemos log mediante:"
   ]
  },
  {
   "cell_type": "code",
   "execution_count": null,
   "metadata": {},
   "outputs": [],
   "source": [
    "gis = GIS(username=username, password=passwd)\n",
    "sc_map = gis.map('San Cristobal, Republica Dominicana')\n",
    "sc_map.zoom = 14\n",
    "sc_map"
   ]
  },
  {
   "cell_type": "markdown",
   "metadata": {},
   "source": [
    "Para realizar busquedas fuera de nuestra organizacion utilizamos la siguiente queri con terminos especificos.\n",
    "A la fecha de creacion de este notebook al parecer la cantidad de layers especificos para esta zona parece ser limitada por lo que he opdato por aplicar un layer de alcance nacional."
   ]
  },
  {
   "cell_type": "code",
   "execution_count": null,
   "metadata": {},
   "outputs": [],
   "source": [
    "search_result = gis.content.search(query='medical central america', item_type='Feature Layer', outside_org=True)"
   ]
  },
  {
   "cell_type": "code",
   "execution_count": null,
   "metadata": {},
   "outputs": [],
   "source": [
    "search_result"
   ]
  },
  {
   "cell_type": "markdown",
   "metadata": {},
   "source": [
    "La linea anterior nos devuelve una lista de feature disponibles con el nombre de la capa que se encuentra fuera de nuestra organizacion. Para mostrar el contenido utilizaremos la funcion display de IPython."
   ]
  },
  {
   "cell_type": "code",
   "execution_count": null,
   "metadata": {},
   "outputs": [],
   "source": [
    "from IPython.display import display\n",
    "for item in search_result:\n",
    "    display(item)"
   ]
  },
  {
   "cell_type": "markdown",
   "metadata": {},
   "source": [
    "Elegimos de la lista la feature deseada, en este caso como es el tema actual elegimos el mapa de coronavirus, "
   ]
  },
  {
   "cell_type": "code",
   "execution_count": null,
   "metadata": {},
   "outputs": [],
   "source": [
    "medical_rd = search_result[0]\n",
    "medical_rd.layers\n",
    "for lyr in medical_rd.layers:\n",
    "    print(lyr.properties.name)"
   ]
  },
  {
   "cell_type": "markdown",
   "metadata": {},
   "source": [
    "Podemos ver que la feature posee 1 *layers* como es un iterador podemos acceder a ellos mediante indices y podemos visualizar el contenido mediante un **pandas dataframe** "
   ]
  },
  {
   "cell_type": "code",
   "execution_count": null,
   "metadata": {},
   "outputs": [],
   "source": [
    "provincias_layer = medical_rd.layers[0]\n",
    "medical_df = provincias_layer.query().sdf"
   ]
  },
  {
   "cell_type": "markdown",
   "metadata": {},
   "source": [
    "Aqui da una advertencia por descontinuacion de .df a favor de .sdf.\n",
    "Procedemos a visualizar el contenido limitando su viisualizaciona el comienzo."
   ]
  },
  {
   "cell_type": "code",
   "execution_count": null,
   "metadata": {},
   "outputs": [],
   "source": [
    "medical_df.head()"
   ]
  },
  {
   "cell_type": "markdown",
   "metadata": {},
   "source": [
    "Podemos agregar el layer al mapa que creamos antes."
   ]
  },
  {
   "cell_type": "code",
   "execution_count": null,
   "metadata": {},
   "outputs": [],
   "source": [
    "sc_map.add_layer(medical_df)\n",
    "sc_map"
   ]
  },
  {
   "cell_type": "markdown",
   "metadata": {},
   "source": [
    "Aqui podemos ver el mapa con la feature layer agregado.\n",
    "Ahora procederemos a crearnuestro mapa mediante la clase WebMap"
   ]
  },
  {
   "cell_type": "code",
   "execution_count": null,
   "metadata": {},
   "outputs": [],
   "source": [
    "from arcgis.mapping import WebMap\n",
    "wm = WebMap()\n",
    "web_map_properties = {\n",
    "    'title': 'Facilidades Medicas.',\n",
    "    'snippet': 'Este servicio de mapas muestra las facilidades medicas en RD.',\n",
    "    'tags': 'ArcGis Python API'\n",
    "}\n",
    "web_map_item = wm.save(item_properties=web_map_properties)\n",
    "web_map_item"
   ]
  },
  {
   "cell_type": "code",
   "execution_count": null,
   "metadata": {},
   "outputs": [],
   "source": [
    "provincias_layer.properties"
   ]
  },
  {
   "cell_type": "markdown",
   "metadata": {},
   "source": [
    "Mostremos por un loop el nombre de los campos en el dataframe."
   ]
  },
  {
   "cell_type": "code",
   "execution_count": null,
   "metadata": {},
   "outputs": [],
   "source": [
    "for field in provincias_layer.properties['fields']:\n",
    "    print(field['name'])\n"
   ]
  },
  {
   "cell_type": "code",
   "execution_count": null,
   "metadata": {},
   "outputs": [],
   "source": []
  }
 ],
 "metadata": {
  "kernelspec": {
   "display_name": "Python 3",
   "language": "python",
   "name": "python3"
  },
  "language_info": {
   "codemirror_mode": {
    "name": "ipython",
    "version": 3
   },
   "file_extension": ".py",
   "mimetype": "text/x-python",
   "name": "python",
   "nbconvert_exporter": "python",
   "pygments_lexer": "ipython3",
   "version": "3.8.5"
  }
 },
 "nbformat": 4,
 "nbformat_minor": 4
}
